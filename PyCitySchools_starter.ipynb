{
 "cells": [
  {
   "cell_type": "markdown",
   "metadata": {},
   "source": [
    "### Note\n",
    "* Instructions have been included for each segment. You do not have to follow them exactly, but they are included to help you think through the steps."
   ]
  },
  {
   "cell_type": "code",
   "execution_count": 1,
   "metadata": {},
   "outputs": [],
   "source": [
    "# Dependencies and Setup\n",
    "import pandas as pd\n",
    "import numpy as np\n",
    "\n",
    "# File to Load \n",
    "school_path = \"Resources/schools_complete.csv\"\n",
    "student_path = \"Resources/students_complete.csv\"\n",
    "\n",
    "# Read School and Student Data File and store into Pandas DataFrames\n",
    "schools_df = pd.read_csv(school_path)\n",
    "students_df = pd.read_csv(student_path)\n",
    "\n",
    "merge_df = pd.merge(schools_df,students_df , on=\"school_name\")\n",
    "\n",
    "\n",
    "\n",
    "\n"
   ]
  },
  {
   "cell_type": "markdown",
   "metadata": {},
   "source": [
    "## District Summary\n",
    "\n",
    "* Calculate the total number of schools\n",
    "\n",
    "* Calculate the total number of students\n",
    "\n",
    "* Calculate the total budget\n",
    "\n",
    "* Calculate the average math score \n",
    "\n",
    "* Calculate the average reading score\n",
    "\n",
    "* Calculate the percentage of students with a passing math score (70 or greater)\n",
    "\n",
    "* Calculate the percentage of students with a passing reading score (70 or greater)\n",
    "\n",
    "* Calculate the percentage of students who passed math **and** reading (% Overall Passing)\n",
    "\n",
    "* Create a dataframe to hold the above results\n",
    "\n",
    "* Optional: give the displayed data cleaner formatting"
   ]
  },
  {
   "cell_type": "code",
   "execution_count": 2,
   "metadata": {},
   "outputs": [],
   "source": [
    "# total schools, students, and budget of district\n",
    "Total_Schools =len(merge_df['school_name'].value_counts())\n",
    "Total_Students=merge_df['student_name'].count()\n",
    "Total_Budget=schools_df['budget'].sum()\n",
    "\n",
    "\n"
   ]
  },
  {
   "cell_type": "code",
   "execution_count": 3,
   "metadata": {},
   "outputs": [],
   "source": [
    "# average math and reading scores\n",
    "Average_Math =merge_df['math_score'].mean()\n",
    "Average_Reader =merge_df['reading_score'].mean()"
   ]
  },
  {
   "cell_type": "code",
   "execution_count": 4,
   "metadata": {},
   "outputs": [],
   "source": [
    "# percent passing rates\n",
    "PassMath = merge_df [(merge_df[\"math_score\"] >=70)]\n",
    "PassRead = merge_df [(merge_df[\"reading_score\"] >=70)]\n",
    "PassBoth = merge_df [(merge_df[\"reading_score\"] >=70) & (merge_df[\"math_score\"] >=70)]\n",
    "PassMath1=len(PassMath)\n",
    "PassRead1=len(PassRead)\n",
    "PassBoth1=len(PassBoth)\n",
    "PassMathAve=(PassMath1)/(Total_Students)*100\n",
    "PassReadAve=(PassRead1)/(Total_Students)*100\n",
    "PassBothAve=(PassBoth1)/(Total_Students)*100"
   ]
  },
  {
   "cell_type": "code",
   "execution_count": 5,
   "metadata": {},
   "outputs": [
    {
     "data": {
      "text/html": [
       "<div>\n",
       "<style scoped>\n",
       "    .dataframe tbody tr th:only-of-type {\n",
       "        vertical-align: middle;\n",
       "    }\n",
       "\n",
       "    .dataframe tbody tr th {\n",
       "        vertical-align: top;\n",
       "    }\n",
       "\n",
       "    .dataframe thead th {\n",
       "        text-align: right;\n",
       "    }\n",
       "</style>\n",
       "<table border=\"1\" class=\"dataframe\">\n",
       "  <thead>\n",
       "    <tr style=\"text-align: right;\">\n",
       "      <th></th>\n",
       "      <th>Total Schools</th>\n",
       "      <th>Total Students</th>\n",
       "      <th>Total Budget</th>\n",
       "      <th>Average Math Score</th>\n",
       "      <th>Average Reading Score</th>\n",
       "      <th>% Passing Math</th>\n",
       "      <th>% Passing Reading</th>\n",
       "      <th>% Overall Passing</th>\n",
       "    </tr>\n",
       "  </thead>\n",
       "  <tbody>\n",
       "    <tr>\n",
       "      <th>0</th>\n",
       "      <td>15</td>\n",
       "      <td>39170</td>\n",
       "      <td>$24,649,428.00</td>\n",
       "      <td>78.99</td>\n",
       "      <td>81.88</td>\n",
       "      <td>74.98</td>\n",
       "      <td>85.81</td>\n",
       "      <td>65.17</td>\n",
       "    </tr>\n",
       "  </tbody>\n",
       "</table>\n",
       "</div>"
      ],
      "text/plain": [
       "   Total Schools  Total Students    Total Budget Average Math Score  \\\n",
       "0             15           39170  $24,649,428.00              78.99   \n",
       "\n",
       "  Average Reading Score % Passing Math % Passing Reading % Overall Passing  \n",
       "0                 81.88          74.98             85.81             65.17  "
      ]
     },
     "execution_count": 5,
     "metadata": {},
     "output_type": "execute_result"
    }
   ],
   "source": [
    "# dataframe for district summary\n",
    "district_summary=[{\"Total Schools\":Total_Schools, \"Total Students\":Total_Students,\n",
    "                   \"Total Budget\" :Total_Budget, \"Average Math Score\": Average_Math,\\\n",
    "                   \"Average Reading Score\":Average_Reader, \"% Passing Math\": PassMathAve, \\\n",
    "                   \"% Passing Reading\": PassReadAve, \"% Overall Passing\": PassBothAve}]\n",
    "district_summary_df= pd.DataFrame(district_summary)\n",
    "district_summary_df['Average Reading Score']=district_summary_df['Average Reading Score'].map(\"{:.2f}\".format)\n",
    "district_summary_df['Average Math Score']=district_summary_df['Average Math Score'].map(\"{:.2f}\".format)\n",
    "district_summary_df['% Passing Math']=district_summary_df['% Passing Math'].map(\"{:.2f}\".format)\n",
    "district_summary_df['% Passing Reading']=district_summary_df['% Passing Reading'].map(\"{:.2f}\".format)\n",
    "district_summary_df['% Overall Passing']=district_summary_df['% Overall Passing'].map(\"{:.2f}\".format)\n",
    "district_summary_df['Total Budget']=district_summary_df['Total Budget'].map(\"${:,.2f}\".format)\n",
    "district_summary_df"
   ]
  },
  {
   "cell_type": "markdown",
   "metadata": {},
   "source": [
    "## School Summary"
   ]
  },
  {
   "cell_type": "markdown",
   "metadata": {},
   "source": [
    "* Create an overview table that summarizes key metrics about each school, including:\n",
    "  * School Name\n",
    "  * School Type\n",
    "  * Total Students\n",
    "  * Total School Budget\n",
    "  * Per Student Budget\n",
    "  * Average Math Score\n",
    "  * Average Reading Score\n",
    "  * % Passing Math\n",
    "  * % Passing Reading\n",
    "  * % Overall Passing (The percentage of students that passed math **and** reading.)\n",
    "  \n",
    "* Create a dataframe to hold the above results"
   ]
  },
  {
   "cell_type": "code",
   "execution_count": 6,
   "metadata": {},
   "outputs": [
    {
     "data": {
      "text/html": [
       "<div>\n",
       "<style scoped>\n",
       "    .dataframe tbody tr th:only-of-type {\n",
       "        vertical-align: middle;\n",
       "    }\n",
       "\n",
       "    .dataframe tbody tr th {\n",
       "        vertical-align: top;\n",
       "    }\n",
       "\n",
       "    .dataframe thead th {\n",
       "        text-align: right;\n",
       "    }\n",
       "</style>\n",
       "<table border=\"1\" class=\"dataframe\">\n",
       "  <thead>\n",
       "    <tr style=\"text-align: right;\">\n",
       "      <th></th>\n",
       "      <th>Student ID</th>\n",
       "      <th>student_name</th>\n",
       "      <th>gender</th>\n",
       "      <th>grade</th>\n",
       "      <th>school_name</th>\n",
       "      <th>reading_score</th>\n",
       "      <th>math_score</th>\n",
       "    </tr>\n",
       "  </thead>\n",
       "  <tbody>\n",
       "    <tr>\n",
       "      <th>0</th>\n",
       "      <td>0</td>\n",
       "      <td>Paul Bradley</td>\n",
       "      <td>M</td>\n",
       "      <td>9th</td>\n",
       "      <td>Huang High School</td>\n",
       "      <td>66</td>\n",
       "      <td>79</td>\n",
       "    </tr>\n",
       "    <tr>\n",
       "      <th>1</th>\n",
       "      <td>1</td>\n",
       "      <td>Victor Smith</td>\n",
       "      <td>M</td>\n",
       "      <td>12th</td>\n",
       "      <td>Huang High School</td>\n",
       "      <td>94</td>\n",
       "      <td>61</td>\n",
       "    </tr>\n",
       "    <tr>\n",
       "      <th>2</th>\n",
       "      <td>2</td>\n",
       "      <td>Kevin Rodriguez</td>\n",
       "      <td>M</td>\n",
       "      <td>12th</td>\n",
       "      <td>Huang High School</td>\n",
       "      <td>90</td>\n",
       "      <td>60</td>\n",
       "    </tr>\n",
       "    <tr>\n",
       "      <th>3</th>\n",
       "      <td>3</td>\n",
       "      <td>Dr. Richard Scott</td>\n",
       "      <td>M</td>\n",
       "      <td>12th</td>\n",
       "      <td>Huang High School</td>\n",
       "      <td>67</td>\n",
       "      <td>58</td>\n",
       "    </tr>\n",
       "    <tr>\n",
       "      <th>4</th>\n",
       "      <td>4</td>\n",
       "      <td>Bonnie Ray</td>\n",
       "      <td>F</td>\n",
       "      <td>9th</td>\n",
       "      <td>Huang High School</td>\n",
       "      <td>97</td>\n",
       "      <td>84</td>\n",
       "    </tr>\n",
       "  </tbody>\n",
       "</table>\n",
       "</div>"
      ],
      "text/plain": [
       "   Student ID       student_name gender grade        school_name  \\\n",
       "0           0       Paul Bradley      M   9th  Huang High School   \n",
       "1           1       Victor Smith      M  12th  Huang High School   \n",
       "2           2    Kevin Rodriguez      M  12th  Huang High School   \n",
       "3           3  Dr. Richard Scott      M  12th  Huang High School   \n",
       "4           4         Bonnie Ray      F   9th  Huang High School   \n",
       "\n",
       "   reading_score  math_score  \n",
       "0             66          79  \n",
       "1             94          61  \n",
       "2             90          60  \n",
       "3             67          58  \n",
       "4             97          84  "
      ]
     },
     "execution_count": 6,
     "metadata": {},
     "output_type": "execute_result"
    }
   ],
   "source": [
    "students_df.head()"
   ]
  },
  {
   "cell_type": "code",
   "execution_count": 7,
   "metadata": {},
   "outputs": [
    {
     "data": {
      "text/html": [
       "<div>\n",
       "<style scoped>\n",
       "    .dataframe tbody tr th:only-of-type {\n",
       "        vertical-align: middle;\n",
       "    }\n",
       "\n",
       "    .dataframe tbody tr th {\n",
       "        vertical-align: top;\n",
       "    }\n",
       "\n",
       "    .dataframe thead th {\n",
       "        text-align: right;\n",
       "    }\n",
       "</style>\n",
       "<table border=\"1\" class=\"dataframe\">\n",
       "  <thead>\n",
       "    <tr style=\"text-align: right;\">\n",
       "      <th></th>\n",
       "      <th>School ID</th>\n",
       "      <th>school_name</th>\n",
       "      <th>type</th>\n",
       "      <th>size</th>\n",
       "      <th>budget</th>\n",
       "    </tr>\n",
       "  </thead>\n",
       "  <tbody>\n",
       "    <tr>\n",
       "      <th>0</th>\n",
       "      <td>0</td>\n",
       "      <td>Huang High School</td>\n",
       "      <td>District</td>\n",
       "      <td>2917</td>\n",
       "      <td>1910635</td>\n",
       "    </tr>\n",
       "    <tr>\n",
       "      <th>1</th>\n",
       "      <td>1</td>\n",
       "      <td>Figueroa High School</td>\n",
       "      <td>District</td>\n",
       "      <td>2949</td>\n",
       "      <td>1884411</td>\n",
       "    </tr>\n",
       "    <tr>\n",
       "      <th>2</th>\n",
       "      <td>2</td>\n",
       "      <td>Shelton High School</td>\n",
       "      <td>Charter</td>\n",
       "      <td>1761</td>\n",
       "      <td>1056600</td>\n",
       "    </tr>\n",
       "    <tr>\n",
       "      <th>3</th>\n",
       "      <td>3</td>\n",
       "      <td>Hernandez High School</td>\n",
       "      <td>District</td>\n",
       "      <td>4635</td>\n",
       "      <td>3022020</td>\n",
       "    </tr>\n",
       "    <tr>\n",
       "      <th>4</th>\n",
       "      <td>4</td>\n",
       "      <td>Griffin High School</td>\n",
       "      <td>Charter</td>\n",
       "      <td>1468</td>\n",
       "      <td>917500</td>\n",
       "    </tr>\n",
       "  </tbody>\n",
       "</table>\n",
       "</div>"
      ],
      "text/plain": [
       "   School ID            school_name      type  size   budget\n",
       "0          0      Huang High School  District  2917  1910635\n",
       "1          1   Figueroa High School  District  2949  1884411\n",
       "2          2    Shelton High School   Charter  1761  1056600\n",
       "3          3  Hernandez High School  District  4635  3022020\n",
       "4          4    Griffin High School   Charter  1468   917500"
      ]
     },
     "execution_count": 7,
     "metadata": {},
     "output_type": "execute_result"
    }
   ],
   "source": [
    "schools_df.head()"
   ]
  },
  {
   "cell_type": "code",
   "execution_count": null,
   "metadata": {},
   "outputs": [],
   "source": [
    "schools_df.head\n",
    "schoolsorted_df=schools_df.sort_values(by='school_name')\n",
    "\n"
   ]
  },
  {
   "cell_type": "code",
   "execution_count": null,
   "metadata": {},
   "outputs": [],
   "source": [
    "# school location sype, budget, school budget\n",
    "students_df\n",
    "studentssorted_df=students_df.sort_values(by=\"school_name\")\n",
    "studentssorted_df\n",
    "#print(studentsorted_df)\n",
    "math_score=studentssorted_df[\"math_score\"]\n",
    "#print(math_score)\n",
    "grade_df=studentssorted_df[\"grade\"]"
   ]
  },
  {
   "cell_type": "code",
   "execution_count": null,
   "metadata": {},
   "outputs": [],
   "source": [
    "# total school data \n",
    "schools_name=schoolsorted_df[\"school_name\"]\n",
    "#print(school_name)\n",
    "schools_types=schoolsorted_df[\"type\"]\n",
    "#print(school_types)\n",
    "total_students=schoolsorted_df[\"size\"]\n",
    "#print(total_students)\n",
    "schools_budget=schoolsorted_df[\"budget\"]\n",
    "students_budget=(schools_budget)/(total_students)"
   ]
  },
  {
   "cell_type": "code",
   "execution_count": null,
   "metadata": {},
   "outputs": [],
   "source": [
    "# Calculate average that passed reading and math\n",
    "math_scoreave_df= studentssorted_df.groupby(\"school_name\")\n",
    "avemath=math_scoreave_df[\"math_score\"].mean()\n",
    "#print(math_score)\n",
    "#print(avemath)\n",
    "#print(len(avemath))\n",
    "read_scoreave_df=studentssorted_df.groupby(\"school_name\")\n",
    "averead_df=read_scoreave_df[\"reading_score\"].mean()"
   ]
  },
  {
   "cell_type": "code",
   "execution_count": null,
   "metadata": {},
   "outputs": [],
   "source": [
    "# Calculate overall passing rate\n",
    "PassMathAve=studentssorted_df[(studentssorted_df[math_score])] >=70"
   ]
  },
  {
   "cell_type": "code",
   "execution_count": null,
   "metadata": {},
   "outputs": [],
   "source": [
    "PassMath = merge_df [(merge_df[\"math_score\"] >=70)]\n",
    "PassMathAve=PassMath.groupby([\"school_name\"]).count()[\"student_name\"]\n",
    "totalMath=merge_df [(merge_df[\"math_score\"] > 0)]\n",
    "totalMathCount=totalMath.groupby([\"school_name\"]).count()[\"student_name\"]\n",
    "\n",
    "PassMassAvePerc=(PassMathAve/totalMathCount)*100\n",
    "\n",
    "\n",
    "PassRead = merge_df [(merge_df[\"reading_score\"] >=70)]\n",
    "PassReadAve=PassRead.groupby([\"school_name\"]).count()[\"student_name\"]\n",
    "PassReadAvePerc=(PassReadAve/totalMathCount)*100\n",
    "\n",
    "PassBoth = merge_df[(merge_df[\"reading_score\"] >=70) & (merge_df[\"math_score\"] >=70)]\n",
    "PassBothAve=PassBoth.groupby([\"school_name\"]).count()[\"student_name\"]\n",
    "PassBothAvePerc=(PassBothAve/totalMathCount)*100\n",
    "                              "
   ]
  },
  {
   "cell_type": "code",
   "execution_count": null,
   "metadata": {},
   "outputs": [],
   "source": [
    "# Reorganize school summary columns \n",
    "school_summary_df= pd.DataFrame({\n",
    "         \"school_name\": schools_name,\n",
    "        \"School Types\":schools_types,\n",
    "   \"Total Students\":total_students,\n",
    "    \"Total School Budget\":schools_budget, \n",
    "    \"Per Student Budget\":students_budget, })\n",
    "\n"
   ]
  },
  {
   "cell_type": "code",
   "execution_count": null,
   "metadata": {},
   "outputs": [],
   "source": [
    "Math_df = pd.DataFrame({ \"Average Math Score\": avemath,\"Average Reading Score\":averead_df,\"% Passing Math\":PassMassAvePerc,\"% Passing Reading\": PassReadAvePerc,\n",
    "\"% Overall Passing\": PassBothAvePerc, })\n",
    "\n"
   ]
  },
  {
   "cell_type": "code",
   "execution_count": null,
   "metadata": {},
   "outputs": [],
   "source": [
    "mergeschooldistrict_df = pd.merge(school_summary_df, Math_df, on='school_name', how='left') \n",
    "mergeschooldistrict_df"
   ]
  },
  {
   "cell_type": "markdown",
   "metadata": {},
   "source": [
    "## Top Performing Schools (By % Overall Passing)"
   ]
  },
  {
   "cell_type": "markdown",
   "metadata": {},
   "source": [
    "* Sort and display the top five performing schools by % overall passing."
   ]
  },
  {
   "cell_type": "code",
   "execution_count": null,
   "metadata": {
    "scrolled": true
   },
   "outputs": [],
   "source": [
    "# top performing schools summary by passing rate\n",
    "top_schools = mergeschooldistrict_df.sort_values(['% Overall Passing'],ascending=False)\n",
    "top_schools.head(10)"
   ]
  },
  {
   "cell_type": "markdown",
   "metadata": {},
   "source": [
    "## Bottom Performing Schools (By % Overall Passing)"
   ]
  },
  {
   "cell_type": "markdown",
   "metadata": {},
   "source": [
    "* Sort and display the five worst-performing schools by % overall passing."
   ]
  },
  {
   "cell_type": "code",
   "execution_count": null,
   "metadata": {},
   "outputs": [],
   "source": [
    "bottom_schools = mergeschooldistrict_df.sort_values(['% Overall Passing'],ascending=True)\n",
    "bottom_schools.head(10)"
   ]
  },
  {
   "cell_type": "markdown",
   "metadata": {
    "collapsed": true
   },
   "source": [
    "## Math Scores by Grade"
   ]
  },
  {
   "cell_type": "markdown",
   "metadata": {},
   "source": [
    "* Create a table that lists the average Reading Score for students of each grade level (9th, 10th, 11th, 12th) at each school.\n",
    "\n",
    "  * Create a pandas series for each grade. Hint: use a conditional statement.\n",
    "  \n",
    "  * Group each series by school\n",
    "  \n",
    "  * Combine the series into a dataframe\n",
    "  \n",
    "  * Optional: give the displayed data cleaner formatting"
   ]
  },
  {
   "cell_type": "code",
   "execution_count": null,
   "metadata": {},
   "outputs": [],
   "source": [
    "nine_math=students_df.loc[students_df['grade']==\"9th\"].groupby('school_name')[\"math_score\"].mean()\n",
    "ten_math=students_df.loc[students_df['grade']==\"10th\"].groupby('school_name')[\"math_score\"].mean()\n",
    "eleven_math=students_df.loc[students_df['grade']==\"11th\"].groupby('school_name')[\"math_score\"].mean()\n",
    "twelve_math=students_df.loc[students_df['grade']==\"12th\"].groupby('school_name')[\"math_score\"].mean()\n",
    "\n",
    "math_score_df=pd.DataFrame({ \"9th\":nine_math,\"10th\":ten_math,\"11th\":eleven_math,\"12th\":twelve_math})\n",
    "math_score=math_score[[\"9th\",\"10th\",\"11th\",\"12th\"]]\n",
    "math_score.index.name=\"school_name\"\n",
    "math_score_df\n",
    "\n"
   ]
  },
  {
   "cell_type": "markdown",
   "metadata": {},
   "source": [
    "## Reading Score by Grade "
   ]
  },
  {
   "cell_type": "markdown",
   "metadata": {},
   "source": [
    "* Perform the same operations as above for reading scores"
   ]
  },
  {
   "cell_type": "code",
   "execution_count": null,
   "metadata": {},
   "outputs": [],
   "source": [
    "# Readinine_read=student_df.loc[student_df['grade']==\"9th\"].groupby('school_name')[\"reading_score\"].mean()\n",
    "ten_read=students_df.loc[students_df['grade']==\"10th\"].groupby('school_name')[\"reading_score\"].mean()\n",
    "eleven_read=students_df.loc[students_df['grade']==\"11th\"].groupby('school_name')[\"reading_score\"].mean()\n",
    "twelve_read=students_df.loc[students_df['grade']==\"12th\"].groupby('school_name')[\"reading_score\"].mean()\n",
    "\n",
    "reading_score_df=pd.DataFrame({\"9th\":nine_read.map(\"{:,.2f}\".format),\"10th\":ten_read.map(\"{:,.2f}\".format),\"11th\":eleven_read.map(\"{:,.2f}\".format),\n",
    "    \"12th\":twelve_read.map(\"{:,.2f}\".format)})\n",
    "\n",
    "reading_score=reading_score[[\"9th\",\"10th\",\"11th\",\"12th\"]]\n",
    "reading_score.index.name=\"school_name\"\n",
    "reading_score_dfng scores by grade\n",
    "r_ninth = students.loc[students['grade'] == '9th'].groupby(\"school\")\n",
    "ninth_read = r_ninth['reading_score'].mean()\n",
    "r_tenth = students.loc[students['grade'] == '10th'].groupby(\"school\")\n",
    "tenth_read = r_tenth['reading_score'].mean()\n",
    "r_eleventh = students.loc[students['grade'] == '11th'].groupby(\"school\")\n",
    "eleventh_read = r_eleventh['reading_score'].mean()\n",
    "r_twelfth = students.loc[students['grade'] == '12th'].groupby(\"school\")\n",
    "twelfth_read = r_twelfth['reading_score'].mean()\n",
    "\n",
    "# Create dataframe for reading scores summary\n",
    "read_summary = pd.DataFrame({\"9th\": ninth_read,\n",
    "                            \"10th\": tenth_read,\n",
    "                            \"11th\": eleventh_read,\n",
    "                            \"12th\": twelfth_read})\n",
    "read_summary = read_summary[[\"9th\",\"10th\",\"11th\",\"12th\"]]\n",
    "del read_summary.index.name\n",
    "\n",
    "read_summary.head()"
   ]
  },
  {
   "cell_type": "markdown",
   "metadata": {},
   "source": [
    "## Scores by School Spending"
   ]
  },
  {
   "cell_type": "markdown",
   "metadata": {},
   "source": [
    "* Create a table that breaks down school performances based on average Spending Ranges (Per Student). Use 4 reasonable bins to group school spending. Include in the table each of the following:\n",
    "  * Average Math Score\n",
    "  * Average Reading Score\n",
    "  * % Passing Math\n",
    "  * % Passing Reading\n",
    "  * Overall Passing Rate (Average of the above two)"
   ]
  },
  {
   "cell_type": "code",
   "execution_count": null,
   "metadata": {},
   "outputs": [],
   "source": [
    "# Create bins\n",
    "bins = [0,584.99,630.99,650.99,800]\n",
    "spending_ranges = [\"Less than $585\",\"$585-$630\",\"$630-$650\",\"Over $650\"]\n",
    "\n",
    "mergeschooldistrict_df['Spending Group'] = pd.cut(school_summary_df['Per Student Budget'], bins, labels=spending_ranges)\n",
    "scores_by_school_spending = mergeschooldistrict_df.groupby(['Spending Group']).mean()\n",
    "scores_by_school_spending=scores_by_school_spending[['Average Math Score', 'Average Reading Score', '% Passing Math', '% Passing Reading', '% Overall Passing']]\n",
    "scores_by_school_spending"
   ]
  },
  {
   "cell_type": "markdown",
   "metadata": {},
   "source": [
    "## Scores by School Size"
   ]
  },
  {
   "cell_type": "markdown",
   "metadata": {},
   "source": [
    "* Perform the same operations as above, based on school size."
   ]
  },
  {
   "cell_type": "code",
   "execution_count": null,
   "metadata": {
    "scrolled": true
   },
   "outputs": [],
   "source": [
    "# Create bins\n",
    "bins2 = [0, 1000, 2000, 5000]\n",
    "\n",
    "# Create names for bins\n",
    "size_range = ['Small', 'Medium', 'Large']\n",
    "\n",
    "school_summary[\"School Size\"] = pd.cut(school_summary[\"Total Students\"], \n",
    "                                                         bins2, labels=size_range)\n",
    "size_summary = school_summary.groupby(\"School Size\")\n",
    "size_summary = size_summary[[\"Average Math Score\", \"Average Reading Score\", \"% Passing Math\", \n",
    "                             \"% Passing Reading\", \"Overall Passing Rate\"]]\n",
    "size_summary.mean()"
   ]
  },
  {
   "cell_type": "code",
   "execution_count": null,
   "metadata": {},
   "outputs": [],
   "source": [
    "#bins\n",
    "bins = [0, 1000, 2000, 5000]\n",
    "group_names = [\"Small (Less Than 1000)\", \"Medium (1000-2000)\", \"Large (2000-5000)\"]\n",
    "\n",
    "\n",
    "mergeschooldistrict_df['School Size'] = pd.cut(school_summary_df[\"Total Students\"], bins, labels=group_names)\n",
    "scores_by_school_spending = mergeschooldistrict_df.groupby(['School Size'], sort=True).mean()\n",
    "scores_by_school_spending = scores_by_school_spending[['Average Math Score', 'Average Reading Score', '% Passing Math', '% Passing Reading', '% Overall Passing']]\n",
    "scores_by_school_spending"
   ]
  },
  {
   "cell_type": "markdown",
   "metadata": {},
   "source": [
    "## Scores by School Type"
   ]
  },
  {
   "cell_type": "markdown",
   "metadata": {},
   "source": [
    "* Perform the same operations as above, based on school type"
   ]
  },
  {
   "cell_type": "code",
   "execution_count": null,
   "metadata": {},
   "outputs": [],
   "source": [
    "score_type_df=mergeschooldistrict_df.set_index(['School Types'])\n",
    "types=score_type_df.groupby(['School Types'], sort=True).mean()\n",
    "types=types[['Average Math Score', 'Average Reading Score', '% Passing Math', '% Passing Reading', '% Overall Passing']]\n",
    "types\n"
   ]
  },
  {
   "cell_type": "code",
   "execution_count": null,
   "metadata": {},
   "outputs": [],
   "source": []
  },
  {
   "cell_type": "code",
   "execution_count": null,
   "metadata": {},
   "outputs": [],
   "source": []
  },
  {
   "cell_type": "code",
   "execution_count": null,
   "metadata": {},
   "outputs": [],
   "source": []
  }
 ],
 "metadata": {
  "anaconda-cloud": {},
  "kernel_info": {
   "name": "python3"
  },
  "kernelspec": {
   "display_name": "Python 3 (ipykernel)",
   "language": "python",
   "name": "python3"
  },
  "language_info": {
   "codemirror_mode": {
    "name": "ipython",
    "version": 3
   },
   "file_extension": ".py",
   "mimetype": "text/x-python",
   "name": "python",
   "nbconvert_exporter": "python",
   "pygments_lexer": "ipython3",
   "version": "3.9.12"
  },
  "latex_envs": {
   "LaTeX_envs_menu_present": true,
   "autoclose": false,
   "autocomplete": true,
   "bibliofile": "biblio.bib",
   "cite_by": "apalike",
   "current_citInitial": 1,
   "eqLabelWithNumbers": true,
   "eqNumInitial": 1,
   "hotkeys": {
    "equation": "Ctrl-E",
    "itemize": "Ctrl-I"
   },
   "labels_anchors": false,
   "latex_user_defs": false,
   "report_style_numbering": false,
   "user_envs_cfg": false
  },
  "nteract": {
   "version": "0.8.4"
  }
 },
 "nbformat": 4,
 "nbformat_minor": 1
}
